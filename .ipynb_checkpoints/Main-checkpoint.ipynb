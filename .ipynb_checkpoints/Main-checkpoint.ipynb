{
 "cells": [
  {
   "cell_type": "code",
   "execution_count": 1,
   "id": "6567956d",
   "metadata": {},
   "outputs": [],
   "source": [
    "import pandas as pd\n",
    "import requests\n",
    "import numpy as np\n",
    "import matplotlib.pyplot as plt\n",
    "import requests\n",
    "import matplotlib.font_manager as font_manager\n",
    "from matplotlib.font_manager import fontManager\n",
    "import os"
   ]
  },
  {
   "cell_type": "code",
   "execution_count": 2,
   "id": "c5a91f28",
   "metadata": {},
   "outputs": [],
   "source": [
    "path = os.getcwd()"
   ]
  },
  {
   "cell_type": "code",
   "execution_count": 4,
   "id": "425eab6b",
   "metadata": {},
   "outputs": [],
   "source": [
    "key = \"API KEY HERE\""
   ]
  },
  {
   "cell_type": "code",
   "execution_count": 5,
   "id": "3d19536f",
   "metadata": {},
   "outputs": [
    {
     "data": {
      "text/html": [
       "<div>\n",
       "<style scoped>\n",
       "    .dataframe tbody tr th:only-of-type {\n",
       "        vertical-align: middle;\n",
       "    }\n",
       "\n",
       "    .dataframe tbody tr th {\n",
       "        vertical-align: top;\n",
       "    }\n",
       "\n",
       "    .dataframe thead th {\n",
       "        text-align: right;\n",
       "    }\n",
       "</style>\n",
       "<table border=\"1\" class=\"dataframe\">\n",
       "  <thead>\n",
       "    <tr style=\"text-align: right;\">\n",
       "      <th></th>\n",
       "      <th>insId</th>\n",
       "      <th>name</th>\n",
       "      <th>urlName</th>\n",
       "      <th>instrument</th>\n",
       "      <th>isin</th>\n",
       "      <th>ticker</th>\n",
       "      <th>yahoo</th>\n",
       "      <th>sectorId</th>\n",
       "      <th>marketId</th>\n",
       "      <th>branchId</th>\n",
       "      <th>countryId</th>\n",
       "      <th>listingDate</th>\n",
       "      <th>stockPriceCurrency</th>\n",
       "      <th>reportCurrency</th>\n",
       "    </tr>\n",
       "  </thead>\n",
       "  <tbody>\n",
       "    <tr>\n",
       "      <th>0</th>\n",
       "      <td>2</td>\n",
       "      <td>AAK</td>\n",
       "      <td>aarhuskarlshamn</td>\n",
       "      <td>0</td>\n",
       "      <td>SE0011337708</td>\n",
       "      <td>AAK</td>\n",
       "      <td>AAK.ST</td>\n",
       "      <td>2.0</td>\n",
       "      <td>1</td>\n",
       "      <td>63.0</td>\n",
       "      <td>1</td>\n",
       "      <td>2005-09-29T00:00:00</td>\n",
       "      <td>SEK</td>\n",
       "      <td>SEK</td>\n",
       "    </tr>\n",
       "    <tr>\n",
       "      <th>1</th>\n",
       "      <td>3</td>\n",
       "      <td>ABB</td>\n",
       "      <td>abb</td>\n",
       "      <td>0</td>\n",
       "      <td>CH0012221716</td>\n",
       "      <td>ABB</td>\n",
       "      <td>ABB.ST</td>\n",
       "      <td>5.0</td>\n",
       "      <td>1</td>\n",
       "      <td>23.0</td>\n",
       "      <td>1</td>\n",
       "      <td>1999-06-22T00:00:00</td>\n",
       "      <td>SEK</td>\n",
       "      <td>USD</td>\n",
       "    </tr>\n",
       "    <tr>\n",
       "      <th>2</th>\n",
       "      <td>6</td>\n",
       "      <td>Active Biotech</td>\n",
       "      <td>active-biotech</td>\n",
       "      <td>0</td>\n",
       "      <td>SE0001137985</td>\n",
       "      <td>ACTI</td>\n",
       "      <td>ACTI.ST</td>\n",
       "      <td>4.0</td>\n",
       "      <td>3</td>\n",
       "      <td>78.0</td>\n",
       "      <td>1</td>\n",
       "      <td>1997-11-25T00:00:00</td>\n",
       "      <td>SEK</td>\n",
       "      <td>SEK</td>\n",
       "    </tr>\n",
       "    <tr>\n",
       "      <th>3</th>\n",
       "      <td>7</td>\n",
       "      <td>Addnode</td>\n",
       "      <td>addnode</td>\n",
       "      <td>0</td>\n",
       "      <td>SE0017885767</td>\n",
       "      <td>ANOD B</td>\n",
       "      <td>ANOD-B.ST</td>\n",
       "      <td>6.0</td>\n",
       "      <td>1</td>\n",
       "      <td>89.0</td>\n",
       "      <td>1</td>\n",
       "      <td>1999-06-10T00:00:00</td>\n",
       "      <td>SEK</td>\n",
       "      <td>SEK</td>\n",
       "    </tr>\n",
       "    <tr>\n",
       "      <th>4</th>\n",
       "      <td>8</td>\n",
       "      <td>Addtech</td>\n",
       "      <td>addtech</td>\n",
       "      <td>0</td>\n",
       "      <td>SE0014781795</td>\n",
       "      <td>ADDT B</td>\n",
       "      <td>ADDT-B.ST</td>\n",
       "      <td>5.0</td>\n",
       "      <td>1</td>\n",
       "      <td>24.0</td>\n",
       "      <td>1</td>\n",
       "      <td>2001-09-03T00:00:00</td>\n",
       "      <td>SEK</td>\n",
       "      <td>SEK</td>\n",
       "    </tr>\n",
       "    <tr>\n",
       "      <th>...</th>\n",
       "      <td>...</td>\n",
       "      <td>...</td>\n",
       "      <td>...</td>\n",
       "      <td>...</td>\n",
       "      <td>...</td>\n",
       "      <td>...</td>\n",
       "      <td>...</td>\n",
       "      <td>...</td>\n",
       "      <td>...</td>\n",
       "      <td>...</td>\n",
       "      <td>...</td>\n",
       "      <td>...</td>\n",
       "      <td>...</td>\n",
       "      <td>...</td>\n",
       "    </tr>\n",
       "    <tr>\n",
       "      <th>1850</th>\n",
       "      <td>2521</td>\n",
       "      <td>Gosol Energy</td>\n",
       "      <td>gosol-energy</td>\n",
       "      <td>0</td>\n",
       "      <td>SE0020845071</td>\n",
       "      <td>GOSOL</td>\n",
       "      <td>GOSOL.ST</td>\n",
       "      <td>10.0</td>\n",
       "      <td>5</td>\n",
       "      <td>13.0</td>\n",
       "      <td>1</td>\n",
       "      <td>2023-11-28T00:00:00</td>\n",
       "      <td>SEK</td>\n",
       "      <td>SEK</td>\n",
       "    </tr>\n",
       "    <tr>\n",
       "      <th>1851</th>\n",
       "      <td>2522</td>\n",
       "      <td>Cyclezyme</td>\n",
       "      <td>cyclezyme</td>\n",
       "      <td>0</td>\n",
       "      <td>SE0020975852</td>\n",
       "      <td>CYCLE</td>\n",
       "      <td>CYCLE.ST</td>\n",
       "      <td>4.0</td>\n",
       "      <td>5</td>\n",
       "      <td>78.0</td>\n",
       "      <td>1</td>\n",
       "      <td>2023-12-22T00:00:00</td>\n",
       "      <td>SEK</td>\n",
       "      <td>SEK</td>\n",
       "    </tr>\n",
       "    <tr>\n",
       "      <th>1852</th>\n",
       "      <td>2523</td>\n",
       "      <td>Pohjanmaan Arvo</td>\n",
       "      <td>pohjanmaan-arvo</td>\n",
       "      <td>0</td>\n",
       "      <td>FI4000532320</td>\n",
       "      <td>ARVOSK</td>\n",
       "      <td>ARVOSK.HE</td>\n",
       "      <td>1.0</td>\n",
       "      <td>30</td>\n",
       "      <td>73.0</td>\n",
       "      <td>3</td>\n",
       "      <td>2023-06-20T00:00:00</td>\n",
       "      <td>EUR</td>\n",
       "      <td>EUR</td>\n",
       "    </tr>\n",
       "    <tr>\n",
       "      <th>1853</th>\n",
       "      <td>2524</td>\n",
       "      <td>Webrock Ventures</td>\n",
       "      <td>webrock-ventures</td>\n",
       "      <td>0</td>\n",
       "      <td>SE0016278139</td>\n",
       "      <td>WRV</td>\n",
       "      <td>WRV.ST</td>\n",
       "      <td>1.0</td>\n",
       "      <td>4</td>\n",
       "      <td>73.0</td>\n",
       "      <td>1</td>\n",
       "      <td>2024-02-05T00:00:00</td>\n",
       "      <td>SEK</td>\n",
       "      <td>SEK</td>\n",
       "    </tr>\n",
       "    <tr>\n",
       "      <th>1854</th>\n",
       "      <td>2525</td>\n",
       "      <td>Karnell Group</td>\n",
       "      <td>karnell-group</td>\n",
       "      <td>0</td>\n",
       "      <td>SE0017832173</td>\n",
       "      <td>KARNEL B</td>\n",
       "      <td>KARNEL-B.ST</td>\n",
       "      <td>1.0</td>\n",
       "      <td>3</td>\n",
       "      <td>73.0</td>\n",
       "      <td>1</td>\n",
       "      <td>2024-03-22T00:00:00</td>\n",
       "      <td>SEK</td>\n",
       "      <td>SEK</td>\n",
       "    </tr>\n",
       "  </tbody>\n",
       "</table>\n",
       "<p>1855 rows × 14 columns</p>\n",
       "</div>"
      ],
      "text/plain": [
       "      insId              name           urlName  instrument          isin  \\\n",
       "0         2               AAK   aarhuskarlshamn           0  SE0011337708   \n",
       "1         3               ABB               abb           0  CH0012221716   \n",
       "2         6    Active Biotech    active-biotech           0  SE0001137985   \n",
       "3         7           Addnode           addnode           0  SE0017885767   \n",
       "4         8           Addtech           addtech           0  SE0014781795   \n",
       "...     ...               ...               ...         ...           ...   \n",
       "1850   2521      Gosol Energy      gosol-energy           0  SE0020845071   \n",
       "1851   2522         Cyclezyme         cyclezyme           0  SE0020975852   \n",
       "1852   2523   Pohjanmaan Arvo   pohjanmaan-arvo           0  FI4000532320   \n",
       "1853   2524  Webrock Ventures  webrock-ventures           0  SE0016278139   \n",
       "1854   2525     Karnell Group     karnell-group           0  SE0017832173   \n",
       "\n",
       "        ticker        yahoo  sectorId  marketId  branchId  countryId  \\\n",
       "0          AAK       AAK.ST       2.0         1      63.0          1   \n",
       "1          ABB       ABB.ST       5.0         1      23.0          1   \n",
       "2         ACTI      ACTI.ST       4.0         3      78.0          1   \n",
       "3       ANOD B    ANOD-B.ST       6.0         1      89.0          1   \n",
       "4       ADDT B    ADDT-B.ST       5.0         1      24.0          1   \n",
       "...        ...          ...       ...       ...       ...        ...   \n",
       "1850     GOSOL     GOSOL.ST      10.0         5      13.0          1   \n",
       "1851     CYCLE     CYCLE.ST       4.0         5      78.0          1   \n",
       "1852    ARVOSK    ARVOSK.HE       1.0        30      73.0          3   \n",
       "1853       WRV       WRV.ST       1.0         4      73.0          1   \n",
       "1854  KARNEL B  KARNEL-B.ST       1.0         3      73.0          1   \n",
       "\n",
       "              listingDate stockPriceCurrency reportCurrency  \n",
       "0     2005-09-29T00:00:00                SEK            SEK  \n",
       "1     1999-06-22T00:00:00                SEK            USD  \n",
       "2     1997-11-25T00:00:00                SEK            SEK  \n",
       "3     1999-06-10T00:00:00                SEK            SEK  \n",
       "4     2001-09-03T00:00:00                SEK            SEK  \n",
       "...                   ...                ...            ...  \n",
       "1850  2023-11-28T00:00:00                SEK            SEK  \n",
       "1851  2023-12-22T00:00:00                SEK            SEK  \n",
       "1852  2023-06-20T00:00:00                EUR            EUR  \n",
       "1853  2024-02-05T00:00:00                SEK            SEK  \n",
       "1854  2024-03-22T00:00:00                SEK            SEK  \n",
       "\n",
       "[1855 rows x 14 columns]"
      ]
     },
     "execution_count": 5,
     "metadata": {},
     "output_type": "execute_result"
    }
   ],
   "source": [
    "instruments = 'https://apiservice.borsdata.se/v1/instruments?authKey=API KEY HERE'\n",
    "content = requests.get(instruments, headers={'content-type': 'application/json'})\n",
    "data = content.json()['instruments']\n",
    "\n",
    "df_instruments = pd.DataFrame(data)\n",
    "\n",
    "df_instruments"
   ]
  },
  {
   "cell_type": "code",
   "execution_count": 6,
   "id": "f767a5c8",
   "metadata": {},
   "outputs": [
    {
     "data": {
      "text/html": [
       "<div>\n",
       "<style scoped>\n",
       "    .dataframe tbody tr th:only-of-type {\n",
       "        vertical-align: middle;\n",
       "    }\n",
       "\n",
       "    .dataframe tbody tr th {\n",
       "        vertical-align: top;\n",
       "    }\n",
       "\n",
       "    .dataframe thead th {\n",
       "        text-align: right;\n",
       "    }\n",
       "</style>\n",
       "<table border=\"1\" class=\"dataframe\">\n",
       "  <thead>\n",
       "    <tr style=\"text-align: right;\">\n",
       "      <th></th>\n",
       "      <th>h</th>\n",
       "      <th>l</th>\n",
       "      <th>c</th>\n",
       "      <th>o</th>\n",
       "      <th>v</th>\n",
       "    </tr>\n",
       "    <tr>\n",
       "      <th>d</th>\n",
       "      <th></th>\n",
       "      <th></th>\n",
       "      <th></th>\n",
       "      <th></th>\n",
       "      <th></th>\n",
       "    </tr>\n",
       "  </thead>\n",
       "  <tbody>\n",
       "    <tr>\n",
       "      <th>2017-06-19</th>\n",
       "      <td>11.85</td>\n",
       "      <td>8.86</td>\n",
       "      <td>11.50</td>\n",
       "      <td>9.00</td>\n",
       "      <td>2446940</td>\n",
       "    </tr>\n",
       "    <tr>\n",
       "      <th>2017-06-20</th>\n",
       "      <td>12.90</td>\n",
       "      <td>10.40</td>\n",
       "      <td>11.20</td>\n",
       "      <td>11.95</td>\n",
       "      <td>837655</td>\n",
       "    </tr>\n",
       "    <tr>\n",
       "      <th>2017-06-21</th>\n",
       "      <td>11.40</td>\n",
       "      <td>10.00</td>\n",
       "      <td>11.00</td>\n",
       "      <td>11.40</td>\n",
       "      <td>278035</td>\n",
       "    </tr>\n",
       "    <tr>\n",
       "      <th>2017-06-22</th>\n",
       "      <td>11.75</td>\n",
       "      <td>10.80</td>\n",
       "      <td>11.75</td>\n",
       "      <td>11.20</td>\n",
       "      <td>111590</td>\n",
       "    </tr>\n",
       "    <tr>\n",
       "      <th>2017-06-26</th>\n",
       "      <td>16.60</td>\n",
       "      <td>12.00</td>\n",
       "      <td>16.60</td>\n",
       "      <td>12.00</td>\n",
       "      <td>649950</td>\n",
       "    </tr>\n",
       "    <tr>\n",
       "      <th>...</th>\n",
       "      <td>...</td>\n",
       "      <td>...</td>\n",
       "      <td>...</td>\n",
       "      <td>...</td>\n",
       "      <td>...</td>\n",
       "    </tr>\n",
       "    <tr>\n",
       "      <th>2024-05-20</th>\n",
       "      <td>143.00</td>\n",
       "      <td>136.90</td>\n",
       "      <td>141.70</td>\n",
       "      <td>139.00</td>\n",
       "      <td>103943</td>\n",
       "    </tr>\n",
       "    <tr>\n",
       "      <th>2024-05-21</th>\n",
       "      <td>146.00</td>\n",
       "      <td>139.60</td>\n",
       "      <td>146.00</td>\n",
       "      <td>139.60</td>\n",
       "      <td>104079</td>\n",
       "    </tr>\n",
       "    <tr>\n",
       "      <th>2024-05-22</th>\n",
       "      <td>145.80</td>\n",
       "      <td>140.10</td>\n",
       "      <td>144.30</td>\n",
       "      <td>140.10</td>\n",
       "      <td>137097</td>\n",
       "    </tr>\n",
       "    <tr>\n",
       "      <th>2024-05-23</th>\n",
       "      <td>146.10</td>\n",
       "      <td>142.00</td>\n",
       "      <td>144.40</td>\n",
       "      <td>144.00</td>\n",
       "      <td>107738</td>\n",
       "    </tr>\n",
       "    <tr>\n",
       "      <th>2024-05-24</th>\n",
       "      <td>143.90</td>\n",
       "      <td>138.70</td>\n",
       "      <td>140.30</td>\n",
       "      <td>142.00</td>\n",
       "      <td>108178</td>\n",
       "    </tr>\n",
       "  </tbody>\n",
       "</table>\n",
       "<p>1746 rows × 5 columns</p>\n",
       "</div>"
      ],
      "text/plain": [
       "                 h       l       c       o        v\n",
       "d                                                  \n",
       "2017-06-19   11.85    8.86   11.50    9.00  2446940\n",
       "2017-06-20   12.90   10.40   11.20   11.95   837655\n",
       "2017-06-21   11.40   10.00   11.00   11.40   278035\n",
       "2017-06-22   11.75   10.80   11.75   11.20   111590\n",
       "2017-06-26   16.60   12.00   16.60   12.00   649950\n",
       "...            ...     ...     ...     ...      ...\n",
       "2024-05-20  143.00  136.90  141.70  139.00   103943\n",
       "2024-05-21  146.00  139.60  146.00  139.60   104079\n",
       "2024-05-22  145.80  140.10  144.30  140.10   137097\n",
       "2024-05-23  146.10  142.00  144.40  144.00   107738\n",
       "2024-05-24  143.90  138.70  140.30  142.00   108178\n",
       "\n",
       "[1746 rows x 5 columns]"
      ]
     },
     "execution_count": 6,
     "metadata": {},
     "output_type": "execute_result"
    }
   ],
   "source": [
    "company = \"Surgical Science\"\n",
    "\n",
    "compid = int(df_instruments.loc[df_instruments[\"name\"] == company][\"insId\"].values)\n",
    "\n",
    "report_url = f\"https://apiservice.borsdata.se/v1/instruments/{compid}/stockprices?authKey={key}&maxCount=20\"\n",
    "\n",
    "content = requests.get(report_url)\n",
    "\n",
    "data = content.json()\n",
    "\n",
    "pricelist = pd.DataFrame(data['stockPricesList'])\n",
    "\n",
    "pricelist[\"d\"] = pd.to_datetime(pricelist[\"d\"])\n",
    "\n",
    "pricelist.set_index('d', inplace=True, drop=True)\n",
    "\n",
    "pricelist"
   ]
  },
  {
   "cell_type": "code",
   "execution_count": 7,
   "id": "4e9556dc",
   "metadata": {},
   "outputs": [],
   "source": [
    "mask = pricelist.index >= \"2023-05-25\"\n",
    "\n",
    "temp = pricelist[mask]"
   ]
  },
  {
   "cell_type": "code",
   "execution_count": 8,
   "id": "63496d27",
   "metadata": {},
   "outputs": [
    {
     "data": {
      "text/html": [
       "<div>\n",
       "<style scoped>\n",
       "    .dataframe tbody tr th:only-of-type {\n",
       "        vertical-align: middle;\n",
       "    }\n",
       "\n",
       "    .dataframe tbody tr th {\n",
       "        vertical-align: top;\n",
       "    }\n",
       "\n",
       "    .dataframe thead th {\n",
       "        text-align: right;\n",
       "    }\n",
       "</style>\n",
       "<table border=\"1\" class=\"dataframe\">\n",
       "  <thead>\n",
       "    <tr style=\"text-align: right;\">\n",
       "      <th></th>\n",
       "      <th>h</th>\n",
       "      <th>l</th>\n",
       "      <th>c</th>\n",
       "      <th>o</th>\n",
       "      <th>v</th>\n",
       "    </tr>\n",
       "    <tr>\n",
       "      <th>d</th>\n",
       "      <th></th>\n",
       "      <th></th>\n",
       "      <th></th>\n",
       "      <th></th>\n",
       "      <th></th>\n",
       "    </tr>\n",
       "  </thead>\n",
       "  <tbody>\n",
       "    <tr>\n",
       "      <th>2023-05-25</th>\n",
       "      <td>251.8</td>\n",
       "      <td>237.8</td>\n",
       "      <td>237.8</td>\n",
       "      <td>248.0</td>\n",
       "      <td>89620</td>\n",
       "    </tr>\n",
       "    <tr>\n",
       "      <th>2023-05-26</th>\n",
       "      <td>245.4</td>\n",
       "      <td>233.0</td>\n",
       "      <td>243.4</td>\n",
       "      <td>237.8</td>\n",
       "      <td>55341</td>\n",
       "    </tr>\n",
       "    <tr>\n",
       "      <th>2023-05-29</th>\n",
       "      <td>246.2</td>\n",
       "      <td>237.4</td>\n",
       "      <td>241.6</td>\n",
       "      <td>243.4</td>\n",
       "      <td>27808</td>\n",
       "    </tr>\n",
       "    <tr>\n",
       "      <th>2023-05-30</th>\n",
       "      <td>241.6</td>\n",
       "      <td>229.2</td>\n",
       "      <td>230.8</td>\n",
       "      <td>241.6</td>\n",
       "      <td>74718</td>\n",
       "    </tr>\n",
       "    <tr>\n",
       "      <th>2023-05-31</th>\n",
       "      <td>230.0</td>\n",
       "      <td>222.8</td>\n",
       "      <td>228.6</td>\n",
       "      <td>229.0</td>\n",
       "      <td>224919</td>\n",
       "    </tr>\n",
       "    <tr>\n",
       "      <th>...</th>\n",
       "      <td>...</td>\n",
       "      <td>...</td>\n",
       "      <td>...</td>\n",
       "      <td>...</td>\n",
       "      <td>...</td>\n",
       "    </tr>\n",
       "    <tr>\n",
       "      <th>2024-05-20</th>\n",
       "      <td>143.0</td>\n",
       "      <td>136.9</td>\n",
       "      <td>141.7</td>\n",
       "      <td>139.0</td>\n",
       "      <td>103943</td>\n",
       "    </tr>\n",
       "    <tr>\n",
       "      <th>2024-05-21</th>\n",
       "      <td>146.0</td>\n",
       "      <td>139.6</td>\n",
       "      <td>146.0</td>\n",
       "      <td>139.6</td>\n",
       "      <td>104079</td>\n",
       "    </tr>\n",
       "    <tr>\n",
       "      <th>2024-05-22</th>\n",
       "      <td>145.8</td>\n",
       "      <td>140.1</td>\n",
       "      <td>144.3</td>\n",
       "      <td>140.1</td>\n",
       "      <td>137097</td>\n",
       "    </tr>\n",
       "    <tr>\n",
       "      <th>2024-05-23</th>\n",
       "      <td>146.1</td>\n",
       "      <td>142.0</td>\n",
       "      <td>144.4</td>\n",
       "      <td>144.0</td>\n",
       "      <td>107738</td>\n",
       "    </tr>\n",
       "    <tr>\n",
       "      <th>2024-05-24</th>\n",
       "      <td>143.9</td>\n",
       "      <td>138.7</td>\n",
       "      <td>140.3</td>\n",
       "      <td>142.0</td>\n",
       "      <td>108178</td>\n",
       "    </tr>\n",
       "  </tbody>\n",
       "</table>\n",
       "<p>253 rows × 5 columns</p>\n",
       "</div>"
      ],
      "text/plain": [
       "                h      l      c      o       v\n",
       "d                                             \n",
       "2023-05-25  251.8  237.8  237.8  248.0   89620\n",
       "2023-05-26  245.4  233.0  243.4  237.8   55341\n",
       "2023-05-29  246.2  237.4  241.6  243.4   27808\n",
       "2023-05-30  241.6  229.2  230.8  241.6   74718\n",
       "2023-05-31  230.0  222.8  228.6  229.0  224919\n",
       "...           ...    ...    ...    ...     ...\n",
       "2024-05-20  143.0  136.9  141.7  139.0  103943\n",
       "2024-05-21  146.0  139.6  146.0  139.6  104079\n",
       "2024-05-22  145.8  140.1  144.3  140.1  137097\n",
       "2024-05-23  146.1  142.0  144.4  144.0  107738\n",
       "2024-05-24  143.9  138.7  140.3  142.0  108178\n",
       "\n",
       "[253 rows x 5 columns]"
      ]
     },
     "execution_count": 8,
     "metadata": {},
     "output_type": "execute_result"
    }
   ],
   "source": [
    "temp"
   ]
  },
  {
   "cell_type": "code",
   "execution_count": 9,
   "id": "ea8e0650",
   "metadata": {},
   "outputs": [],
   "source": [
    "font_path = path + \"/fonts/Comfortaa-Medium.ttf\""
   ]
  },
  {
   "cell_type": "code",
   "execution_count": 10,
   "id": "85e5ee2a",
   "metadata": {},
   "outputs": [],
   "source": [
    "font_manager.fontManager.addfont(font_path)"
   ]
  },
  {
   "cell_type": "code",
   "execution_count": 11,
   "id": "95304790",
   "metadata": {},
   "outputs": [],
   "source": [
    "plt.rcParams['font.family'] = 'Comfortaa'"
   ]
  },
  {
   "cell_type": "code",
   "execution_count": 12,
   "id": "5fe849cb",
   "metadata": {},
   "outputs": [
    {
     "data": {
      "text/plain": [
       "<function matplotlib.pyplot.show(close=None, block=None)>"
      ]
     },
     "execution_count": 12,
     "metadata": {},
     "output_type": "execute_result"
    },
    {
     "data": {
      "image/png": "[encoded data removed]",
      "text/plain": [
       "<Figure size 1000x300 with 1 Axes>"
      ]
     },
     "metadata": {},
     "output_type": "display_data"
    }
   ],
   "source": [
    "import seaborn as sns\n",
    "\n",
    "plt.figure(figsize=(10, 3))\n",
    "#sns.lineplot(temp, x=\"d\", y=\"c\", color=\"black\", linewidth=3, zorder=1)\n",
    "sns.lineplot(temp, y=\"c\", x=\"d\", color=\"#f3fa04\", linewidth = 2, zorder=2)\n",
    "plt.title(\"Aktieutvecking 1 år för Surgical Science (SEK)\", fontsize=15)\n",
    "\n",
    "\n",
    "plt.ylabel(\"\")\n",
    "plt.xlabel(\"\")\n",
    "\n",
    "#plt.xticks([\"2023-10\", \"2023-11\", \"2023-12\", \"2024-01\", \"2024-02\", \"2024-03\", \"2024-04\", \"2024-05\"],\n",
    "#           [\"Oktober\", \"November\", \"December\", \"Januari\", \"Februari\", \"Mars\", \"April\", \"Maj\"],\n",
    "#           fontsize=12)\n",
    "\n",
    "plt.xticks(fontsize=12)\n",
    "\n",
    "plt.yticks(fontsize=12)\n",
    "\n",
    "plt.xlim(left=min(temp.index))\n",
    "\n",
    "sns.despine(bottom=True, left=True, right=True, top=True)\n",
    "\n",
    "plt.show"
   ]
  },
  {
   "cell_type": "code",
   "execution_count": 13,
   "id": "7da79fb0",
   "metadata": {},
   "outputs": [
    {
     "data": {
      "image/png": "[encoded data removed]",
      "text/plain": [
       "<Figure size 300x300 with 1 Axes>"
      ]
     },
     "metadata": {},
     "output_type": "display_data"
    }
   ],
   "source": [
    "labels = [\"Utbildande Produkter\", \"Industri/OEM\"]\n",
    "sizes = [59, 41]\n",
    "\n",
    "colors = ['#f3fa04', '#ffdd00', '#ffc300', '#ff9f00']\n",
    "\n",
    "# Explode (optional, to highlight a specific slice)\n",
    "#explode = (0.1, 0, 0, 0)  # Only \"explode\" the 1st slice (i.e. 'Category A')\n",
    "\n",
    "# Create the pie chart\n",
    "plt.figure(figsize=(3, 3))\n",
    "plt.pie(sizes, labels=labels, colors=colors, autopct='%1.f%%',\n",
    "        shadow=False, startangle=140)\n",
    "\n",
    "# Equal aspect ratio ensures that pie is drawn as a circle.\n",
    "plt.axis('equal')\n",
    "\n",
    "# Title\n",
    "plt.title(\"Försäljning per produktsegment\\n\")\n",
    "\n",
    "# Show the plot\n",
    "plt.show()"
   ]
  },
  {
   "cell_type": "code",
   "execution_count": 14,
   "id": "c0c17875",
   "metadata": {},
   "outputs": [
    {
     "data": {
      "image/png": "[encoded data removed]",
      "text/plain": [
       "<Figure size 300x300 with 1 Axes>"
      ]
     },
     "metadata": {},
     "output_type": "display_data"
    }
   ],
   "source": [
    "labels = [\"Nord- & Sydamerika\", \"Europa\", \"Asien\", \"RoW\"]\n",
    "sizes = [551971, 149437, 136275, 45170]\n",
    "\n",
    "colors = ['#f3fa04', '#ffdd00', '#ffc300', '#ff9f00']\n",
    "\n",
    "# Explode (optional, to highlight a specific slice)\n",
    "#explode = (0.1, 0, 0, 0)  # Only \"explode\" the 1st slice (i.e. 'Category A')\n",
    "\n",
    "# Create the pie chart\n",
    "plt.figure(figsize=(3, 3))\n",
    "plt.pie(sizes, labels=labels, colors=colors, autopct='%1.f%%',\n",
    "        shadow=False, startangle=140)\n",
    "\n",
    "# Equal aspect ratio ensures that pie is drawn as a circle.\n",
    "plt.axis(\"equal\")\n",
    "\n",
    "# Title\n",
    "plt.title(\"Försäljning per marknad\\n\")\n",
    "\n",
    "# Show the plot\n",
    "plt.show()"
   ]
  },
  {
   "cell_type": "code",
   "execution_count": 15,
   "id": "74e28112",
   "metadata": {},
   "outputs": [],
   "source": [
    "data_companies = {\n",
    "    'Region': ['Europa', 'Amerika', 'Asien', 'RoW'],\n",
    "    '2022': [131, 505, 141, 26],\n",
    "    '2023': [149, 552, 136, 45]\n",
    "}\n",
    "\n",
    "df_companies = pd.DataFrame(data_companies)\n",
    "\n",
    "data_product_areas = {\n",
    "    'Product Area': ['Utbildande produkter', 'Industri/OEM'],\n",
    "    '2022': [508, 295],\n",
    "    '2023': [518, 364]\n",
    "}\n",
    "\n",
    "df_product_areas = pd.DataFrame(data_product_areas)"
   ]
  },
  {
   "cell_type": "code",
   "execution_count": 16,
   "id": "034b9e8c",
   "metadata": {},
   "outputs": [
    {
     "data": {
      "text/html": [
       "<div>\n",
       "<style scoped>\n",
       "    .dataframe tbody tr th:only-of-type {\n",
       "        vertical-align: middle;\n",
       "    }\n",
       "\n",
       "    .dataframe tbody tr th {\n",
       "        vertical-align: top;\n",
       "    }\n",
       "\n",
       "    .dataframe thead th {\n",
       "        text-align: right;\n",
       "    }\n",
       "</style>\n",
       "<table border=\"1\" class=\"dataframe\">\n",
       "  <thead>\n",
       "    <tr style=\"text-align: right;\">\n",
       "      <th></th>\n",
       "      <th>Region</th>\n",
       "      <th>2022</th>\n",
       "      <th>2023</th>\n",
       "    </tr>\n",
       "  </thead>\n",
       "  <tbody>\n",
       "    <tr>\n",
       "      <th>0</th>\n",
       "      <td>Europa</td>\n",
       "      <td>131</td>\n",
       "      <td>149</td>\n",
       "    </tr>\n",
       "    <tr>\n",
       "      <th>1</th>\n",
       "      <td>Amerika</td>\n",
       "      <td>505</td>\n",
       "      <td>552</td>\n",
       "    </tr>\n",
       "    <tr>\n",
       "      <th>2</th>\n",
       "      <td>Asien</td>\n",
       "      <td>141</td>\n",
       "      <td>136</td>\n",
       "    </tr>\n",
       "    <tr>\n",
       "      <th>3</th>\n",
       "      <td>RoW</td>\n",
       "      <td>26</td>\n",
       "      <td>45</td>\n",
       "    </tr>\n",
       "  </tbody>\n",
       "</table>\n",
       "</div>"
      ],
      "text/plain": [
       "    Region  2022  2023\n",
       "0   Europa   131   149\n",
       "1  Amerika   505   552\n",
       "2    Asien   141   136\n",
       "3      RoW    26    45"
      ]
     },
     "execution_count": 16,
     "metadata": {},
     "output_type": "execute_result"
    }
   ],
   "source": [
    "df_companies"
   ]
  },
  {
   "cell_type": "code",
   "execution_count": 17,
   "id": "f2b62d5b",
   "metadata": {},
   "outputs": [],
   "source": [
    "df_companies_melted = df_companies.melt(id_vars='Region', var_name='Year', value_name='Sales')"
   ]
  },
  {
   "cell_type": "code",
   "execution_count": 18,
   "id": "74dd7024",
   "metadata": {},
   "outputs": [],
   "source": [
    "df_product_areas_melted = df_product_areas.melt(id_vars='Product Area', var_name='Year', value_name='Sales')"
   ]
  },
  {
   "cell_type": "code",
   "execution_count": 19,
   "id": "9c5b08b9",
   "metadata": {},
   "outputs": [
    {
     "data": {
      "text/html": [
       "<div>\n",
       "<style scoped>\n",
       "    .dataframe tbody tr th:only-of-type {\n",
       "        vertical-align: middle;\n",
       "    }\n",
       "\n",
       "    .dataframe tbody tr th {\n",
       "        vertical-align: top;\n",
       "    }\n",
       "\n",
       "    .dataframe thead th {\n",
       "        text-align: right;\n",
       "    }\n",
       "</style>\n",
       "<table border=\"1\" class=\"dataframe\">\n",
       "  <thead>\n",
       "    <tr style=\"text-align: right;\">\n",
       "      <th></th>\n",
       "      <th>Product Area</th>\n",
       "      <th>Year</th>\n",
       "      <th>Sales</th>\n",
       "    </tr>\n",
       "  </thead>\n",
       "  <tbody>\n",
       "    <tr>\n",
       "      <th>0</th>\n",
       "      <td>Utbildande produkter</td>\n",
       "      <td>2022</td>\n",
       "      <td>508</td>\n",
       "    </tr>\n",
       "    <tr>\n",
       "      <th>1</th>\n",
       "      <td>Industri/OEM</td>\n",
       "      <td>2022</td>\n",
       "      <td>295</td>\n",
       "    </tr>\n",
       "    <tr>\n",
       "      <th>2</th>\n",
       "      <td>Utbildande produkter</td>\n",
       "      <td>2023</td>\n",
       "      <td>518</td>\n",
       "    </tr>\n",
       "    <tr>\n",
       "      <th>3</th>\n",
       "      <td>Industri/OEM</td>\n",
       "      <td>2023</td>\n",
       "      <td>364</td>\n",
       "    </tr>\n",
       "  </tbody>\n",
       "</table>\n",
       "</div>"
      ],
      "text/plain": [
       "           Product Area  Year  Sales\n",
       "0  Utbildande produkter  2022    508\n",
       "1          Industri/OEM  2022    295\n",
       "2  Utbildande produkter  2023    518\n",
       "3          Industri/OEM  2023    364"
      ]
     },
     "execution_count": 19,
     "metadata": {},
     "output_type": "execute_result"
    }
   ],
   "source": [
    "df_product_areas_melted"
   ]
  },
  {
   "cell_type": "code",
   "execution_count": 20,
   "id": "2dc8eeca",
   "metadata": {},
   "outputs": [
    {
     "data": {
      "image/png": "[encoded data removed]",
      "text/plain": [
       "<Figure size 500x300 with 1 Axes>"
      ]
     },
     "metadata": {},
     "output_type": "display_data"
    }
   ],
   "source": [
    "plt.figure(figsize=(5, 3))\n",
    "\n",
    "ax1 = sns.barplot(data=df_companies_melted, x=\"Region\", y=\"Sales\", hue=\"Year\", palette=[\"#aaaf03\", \"#f3fa04\"])\n",
    "\n",
    "sns.despine(bottom=True, left=True, right=True, top=True)\n",
    "\n",
    "plt.title(\"Försäljning per Region (MSEK)\", fontsize = 12)\n",
    "#plt.xticks(rotation=35, ha=\"right\")\n",
    "plt.xlabel(\"\")\n",
    "plt.ylabel(\"\")\n",
    "\n",
    "ax1.legend(frameon=False)\n",
    "\n",
    "plt.show()"
   ]
  },
  {
   "cell_type": "code",
   "execution_count": 21,
   "id": "9ddcad91",
   "metadata": {},
   "outputs": [
    {
     "data": {
      "image/png": "[encoded data removed]",
      "text/plain": [
       "<Figure size 500x300 with 1 Axes>"
      ]
     },
     "metadata": {},
     "output_type": "display_data"
    }
   ],
   "source": [
    "plt.figure(figsize=(5, 3))\n",
    "ax2 = sns.barplot(data=df_product_areas_melted, x=\"Product Area\", y=\"Sales\", hue=\"Year\", palette=[\"#aaaf03\", \"#f3fa04\"])\n",
    "\n",
    "for bar in ax2.patches:\n",
    "    bar.set_width(0.4)\n",
    "\n",
    "sns.despine(bottom=True, left=True, right=True, top=True)\n",
    "\n",
    "plt.title(\"Försäljning per Segment (MSEK)\", fontsize = 12)\n",
    "plt.xlabel(\"\")\n",
    "plt.ylabel(\"\")\n",
    "\n",
    "ax2.legend(frameon=False)\n",
    "\n",
    "plt.show()"
   ]
  },
  {
   "cell_type": "code",
   "execution_count": 22,
   "id": "0ca0f501",
   "metadata": {},
   "outputs": [],
   "source": [
    "data_e_s = {\n",
    "    'Omsättning': [367, 802.54, 882.85, 999, 1206.35, 1461.51],\n",
    "    'EBIT': [56.5, 162.54, 189.2, 249, 379.5, 556.5],\n",
    "    'EBIT-Marginal %': [15.4, 20.25, 21.43, 24.92, 31.46, 38.08],\n",
    "    'År': [\"2021\", \"2022\", \"2023\", \"2024 (e)\", \"2025 (e)\", \"2026 (e)\"]\n",
    "}"
   ]
  },
  {
   "cell_type": "code",
   "execution_count": 23,
   "id": "8d5df856",
   "metadata": {},
   "outputs": [],
   "source": [
    "df_es = pd.DataFrame(data_e_s)"
   ]
  },
  {
   "cell_type": "code",
   "execution_count": 24,
   "id": "0b7893db",
   "metadata": {},
   "outputs": [
    {
     "data": {
      "text/html": [
       "<div>\n",
       "<style scoped>\n",
       "    .dataframe tbody tr th:only-of-type {\n",
       "        vertical-align: middle;\n",
       "    }\n",
       "\n",
       "    .dataframe tbody tr th {\n",
       "        vertical-align: top;\n",
       "    }\n",
       "\n",
       "    .dataframe thead th {\n",
       "        text-align: right;\n",
       "    }\n",
       "</style>\n",
       "<table border=\"1\" class=\"dataframe\">\n",
       "  <thead>\n",
       "    <tr style=\"text-align: right;\">\n",
       "      <th></th>\n",
       "      <th>Omsättning</th>\n",
       "      <th>EBIT</th>\n",
       "      <th>EBIT-Marginal %</th>\n",
       "      <th>År</th>\n",
       "    </tr>\n",
       "  </thead>\n",
       "  <tbody>\n",
       "    <tr>\n",
       "      <th>0</th>\n",
       "      <td>367.00</td>\n",
       "      <td>56.50</td>\n",
       "      <td>15.40</td>\n",
       "      <td>2021</td>\n",
       "    </tr>\n",
       "    <tr>\n",
       "      <th>1</th>\n",
       "      <td>802.54</td>\n",
       "      <td>162.54</td>\n",
       "      <td>20.25</td>\n",
       "      <td>2022</td>\n",
       "    </tr>\n",
       "    <tr>\n",
       "      <th>2</th>\n",
       "      <td>882.85</td>\n",
       "      <td>189.20</td>\n",
       "      <td>21.43</td>\n",
       "      <td>2023</td>\n",
       "    </tr>\n",
       "    <tr>\n",
       "      <th>3</th>\n",
       "      <td>999.00</td>\n",
       "      <td>249.00</td>\n",
       "      <td>24.92</td>\n",
       "      <td>2024 (e)</td>\n",
       "    </tr>\n",
       "    <tr>\n",
       "      <th>4</th>\n",
       "      <td>1206.35</td>\n",
       "      <td>379.50</td>\n",
       "      <td>31.46</td>\n",
       "      <td>2025 (e)</td>\n",
       "    </tr>\n",
       "    <tr>\n",
       "      <th>5</th>\n",
       "      <td>1461.51</td>\n",
       "      <td>556.50</td>\n",
       "      <td>38.08</td>\n",
       "      <td>2026 (e)</td>\n",
       "    </tr>\n",
       "  </tbody>\n",
       "</table>\n",
       "</div>"
      ],
      "text/plain": [
       "   Omsättning    EBIT  EBIT-Marginal %        År\n",
       "0      367.00   56.50            15.40      2021\n",
       "1      802.54  162.54            20.25      2022\n",
       "2      882.85  189.20            21.43      2023\n",
       "3      999.00  249.00            24.92  2024 (e)\n",
       "4     1206.35  379.50            31.46  2025 (e)\n",
       "5     1461.51  556.50            38.08  2026 (e)"
      ]
     },
     "execution_count": 24,
     "metadata": {},
     "output_type": "execute_result"
    }
   ],
   "source": [
    "df_es"
   ]
  },
  {
   "cell_type": "code",
   "execution_count": 39,
   "id": "86d62951",
   "metadata": {
    "scrolled": true
   },
   "outputs": [
    {
     "data": {
      "image/png": "[encoded data removed]",
      "text/plain": [
       "<Figure size 800x270 with 2 Axes>"
      ]
     },
     "metadata": {},
     "output_type": "display_data"
    }
   ],
   "source": [
    "fig, ax1 = plt.subplots(figsize=(8, 2.7))\n",
    "\n",
    "bar_width = 0.4\n",
    "bar_positions = range(len(df_es))\n",
    "\n",
    "bars1 = ax1.bar(bar_positions, df_es[\"Omsättning\"], width=bar_width, label=\"Omsättning\", color=\"#f3fa04\")\n",
    "\n",
    "bars2 = ax1.bar([p + bar_width for p in bar_positions], df_es[\"EBIT\"], width=bar_width, label=\"EBIT\", color=\"#aaaf03\")\n",
    "\n",
    "ax1.set_xlabel(\"\")\n",
    "ax1.set_ylabel(\"MSEK\")\n",
    "ax1.set_title(\"\")\n",
    "ax1.set_yticks(np.arange(0, 1501, 250))\n",
    "ax1.set_xticks([p + bar_width / 2 for p in bar_positions])\n",
    "ax1.set_xticklabels(df_es[\"År\"])\n",
    "\n",
    "#ax1.yaxis.set_label_coords(-0.105, 0.50)\n",
    "\n",
    "ax2 = ax1.twinx()\n",
    "line = ax2.plot(bar_positions, df_es[\"EBIT-Marginal %\"], label=\"EBIT-marginal %\", color=\"black\", marker=\"o\")\n",
    "\n",
    "sns.despine(bottom=True, left=True, right=True, top=True)\n",
    "\n",
    "ax2.set_ylabel(\"      %\", rotation=0)\n",
    "\n",
    "ax2.set_yticks(np.arange(0, 51, 10))\n",
    "\n",
    "#ax2.yaxis.set_label_coords(1.075, 0.55)\n",
    "\n",
    "handles1, labels1 = ax1.get_legend_handles_labels()\n",
    "handles2, labels2 = ax2.get_legend_handles_labels()\n",
    "ax1.legend(handles1 + handles2, labels1 + labels2, loc=\"upper left\", frameon=False)\n",
    "\n",
    "plt.show()"
   ]
  },
  {
   "cell_type": "code",
   "execution_count": 26,
   "id": "0a6f2431",
   "metadata": {},
   "outputs": [],
   "source": [
    "def get_pe(x):\n",
    "    \n",
    "    company = x\n",
    "    compid = df_instruments.loc[df_instruments[\"name\"] == company][\"insId\"].values[0]\n",
    "    pe_url = f\"https://apiservice.borsdata.se/v1/instruments/{compid}/kpis/2/last/latest?authKey={key}&maxCount=20\"\n",
    "    content = requests.get(pe_url)\n",
    "    data=content.json()\n",
    "\n",
    "    return data[\"value\"][\"n\"]\n",
    "\n",
    "def get_evebitda(x):\n",
    "    \n",
    "    company = x\n",
    "    compid = df_instruments.loc[df_instruments[\"name\"] == company][\"insId\"].values[0]\n",
    "    evebitda_url = f\"https://apiservice.borsdata.se/v1/instruments/{compid}/kpis/11/last/latest?authKey={key}\"\n",
    "    content = requests.get(evebitda_url)\n",
    "    data=content.json()\n",
    "\n",
    "    return data[\"value\"][\"n\"]\n",
    "\n",
    "def get_evebit(x):\n",
    "    \n",
    "    company = x\n",
    "    compid = df_instruments.loc[df_instruments[\"name\"] == company][\"insId\"].values[0]\n",
    "    evebitda_url = f\"https://apiservice.borsdata.se/v1/instruments/{compid}/kpis/10/last/latest?authKey={key}\"\n",
    "    content = requests.get(evebitda_url)\n",
    "    data=content.json()\n",
    "\n",
    "    return data[\"value\"][\"n\"]\n",
    "\n"
   ]
  },
  {
   "cell_type": "code",
   "execution_count": 27,
   "id": "089ce51f",
   "metadata": {},
   "outputs": [
    {
     "data": {
      "text/plain": [
       "34.426910400390625"
      ]
     },
     "execution_count": 27,
     "metadata": {},
     "output_type": "execute_result"
    }
   ],
   "source": [
    "get_pe(\"Surgical Science\")"
   ]
  },
  {
   "cell_type": "code",
   "execution_count": 28,
   "id": "69976c89",
   "metadata": {},
   "outputs": [
    {
     "data": {
      "text/plain": [
       "40.156471252441406"
      ]
     },
     "execution_count": 28,
     "metadata": {},
     "output_type": "execute_result"
    }
   ],
   "source": [
    "get_evebit(\"Surgical Science\")"
   ]
  },
  {
   "cell_type": "code",
   "execution_count": 29,
   "id": "61dc4083",
   "metadata": {},
   "outputs": [
    {
     "data": {
      "text/plain": [
       "29.70886993408203"
      ]
     },
     "execution_count": 29,
     "metadata": {},
     "output_type": "execute_result"
    }
   ],
   "source": [
    "get_evebitda(\"Surgical Science\")"
   ]
  },
  {
   "cell_type": "code",
   "execution_count": 31,
   "id": "8cbefe90",
   "metadata": {},
   "outputs": [
    {
     "data": {
      "text/plain": [
       "15.803489869315673"
      ]
     },
     "execution_count": 31,
     "metadata": {},
     "output_type": "execute_result"
    }
   ],
   "source": [
    "140.3/(453/51.026236)"
   ]
  },
  {
   "cell_type": "code",
   "execution_count": 32,
   "id": "cfb540ed",
   "metadata": {},
   "outputs": [
    {
     "data": {
      "text/plain": [
       "12.85278276481149"
      ]
     },
     "execution_count": 32,
     "metadata": {},
     "output_type": "execute_result"
    }
   ],
   "source": [
    "7159/557"
   ]
  },
  {
   "cell_type": "code",
   "execution_count": 33,
   "id": "19a81ee5",
   "metadata": {},
   "outputs": [
    {
     "data": {
      "text/plain": [
       "11.931666666666667"
      ]
     },
     "execution_count": 33,
     "metadata": {},
     "output_type": "execute_result"
    }
   ],
   "source": [
    "7159/(1500*0.4)"
   ]
  },
  {
   "cell_type": "code",
   "execution_count": null,
   "id": "bce7f245",
   "metadata": {},
   "outputs": [],
   "source": []
  },
  {
   "cell_type": "code",
   "execution_count": null,
   "id": "dcb3e0d4",
   "metadata": {},
   "outputs": [],
   "source": []
  },
  {
   "cell_type": "code",
   "execution_count": 34,
   "id": "e9545fa5",
   "metadata": {},
   "outputs": [],
   "source": [
    "kfdata = {\n",
    "    \"\": [\"P/E\", \"EV/EBIT\"],\n",
    "    \"2023 Act.\": [round(get_pe(\"Surgical Science\"), 2), round(get_evebit(\"Surgical Science\"), 2)],\n",
    "    \"2026 Est.\": [15.80, 12.85],\n",
    "    \"Mål 2026\": [np.nan, 11.93]\n",
    "}"
   ]
  },
  {
   "cell_type": "code",
   "execution_count": 35,
   "id": "3789731f",
   "metadata": {},
   "outputs": [],
   "source": [
    "df_kf = pd.DataFrame(kfdata)"
   ]
  },
  {
   "cell_type": "code",
   "execution_count": 36,
   "id": "d930d27d",
   "metadata": {},
   "outputs": [],
   "source": [
    "df_kfn = df_kf.T.reset_index()"
   ]
  },
  {
   "cell_type": "code",
   "execution_count": 37,
   "id": "64c57ad6",
   "metadata": {
    "scrolled": true
   },
   "outputs": [
    {
     "data": {
      "text/plain": [
       "<bound method DataFrame.reset_index of                0        1\n",
       "             P/E  EV/EBIT\n",
       "2023 Act.  34.43    40.16\n",
       "2026 Est.   15.8    12.85\n",
       "Mål 2026     NaN    11.93>"
      ]
     },
     "execution_count": 37,
     "metadata": {},
     "output_type": "execute_result"
    }
   ],
   "source": [
    "df_kf.T.reset_index"
   ]
  },
  {
   "cell_type": "code",
   "execution_count": null,
   "id": "2312d579",
   "metadata": {},
   "outputs": [],
   "source": []
  },
  {
   "cell_type": "code",
   "execution_count": 38,
   "id": "550cae8d",
   "metadata": {},
   "outputs": [
    {
     "data": {
      "image/png": "[encoded data removed]",
      "text/plain": [
       "<Figure size 400x300 with 1 Axes>"
      ]
     },
     "metadata": {},
     "output_type": "display_data"
    }
   ],
   "source": [
    "fig, ax = plt.subplots(figsize=(4, 3))\n",
    "\n",
    "ax.xaxis.set_visible(False) \n",
    "ax.yaxis.set_visible(False)\n",
    "ax.set_frame_on(False)\n",
    "\n",
    "table = ax.table(cellText=df_kfn.values, cellLoc=\"center\", loc=\"center\")\n",
    "\n",
    "table.auto_set_font_size(False)\n",
    "table.set_fontsize(15)\n",
    "table.scale(1, 4)\n",
    "\n",
    "for key, cell in table.get_celld().items():\n",
    "    cell.set_linewidth(0)\n",
    "    \n",
    "\n",
    "plt.show()"
   ]
  },
  {
   "cell_type": "code",
   "execution_count": null,
   "id": "837895d3",
   "metadata": {},
   "outputs": [],
   "source": []
  },
  {
   "cell_type": "code",
   "execution_count": null,
   "id": "40c72913",
   "metadata": {},
   "outputs": [],
   "source": []
  },
  {
   "cell_type": "code",
   "execution_count": null,
   "id": "77e5a6df",
   "metadata": {},
   "outputs": [],
   "source": []
  },
  {
   "cell_type": "code",
   "execution_count": null,
   "id": "86ae0e7b",
   "metadata": {},
   "outputs": [],
   "source": []
  },
  {
   "cell_type": "code",
   "execution_count": null,
   "id": "ef25aedc",
   "metadata": {},
   "outputs": [],
   "source": []
  },
  {
   "cell_type": "code",
   "execution_count": null,
   "id": "65786dd4",
   "metadata": {},
   "outputs": [],
   "source": []
  },
  {
   "cell_type": "code",
   "execution_count": null,
   "id": "626815ef",
   "metadata": {},
   "outputs": [],
   "source": []
  },
  {
   "cell_type": "code",
   "execution_count": null,
   "id": "5e7f01c7",
   "metadata": {},
   "outputs": [],
   "source": []
  },
  {
   "cell_type": "code",
   "execution_count": null,
   "id": "ed0a372a",
   "metadata": {},
   "outputs": [],
   "source": []
  },
  {
   "cell_type": "code",
   "execution_count": null,
   "id": "2171331e",
   "metadata": {},
   "outputs": [],
   "source": []
  },
  {
   "cell_type": "code",
   "execution_count": null,
   "id": "1dcd3f34",
   "metadata": {},
   "outputs": [],
   "source": []
  },
  {
   "cell_type": "code",
   "execution_count": null,
   "id": "7c585306",
   "metadata": {},
   "outputs": [],
   "source": []
  }
 ],
 "metadata": {
  "kernelspec": {
   "display_name": "Python 3 (ipykernel)",
   "language": "python",
   "name": "python3"
  },
  "language_info": {
   "codemirror_mode": {
    "name": "ipython",
    "version": 3
   },
   "file_extension": ".py",
   "mimetype": "text/x-python",
   "name": "python",
   "nbconvert_exporter": "python",
   "pygments_lexer": "ipython3",
   "version": "3.11.8"
  }
 },
 "nbformat": 4,
 "nbformat_minor": 5
}
